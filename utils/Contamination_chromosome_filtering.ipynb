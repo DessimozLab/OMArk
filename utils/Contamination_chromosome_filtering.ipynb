{
 "cells": [
  {
   "cell_type": "markdown",
   "id": "7a3c04f1",
   "metadata": {},
   "source": [
    "# Contaminat mapping to genome\n",
    "\n",
    "This Notebook and its associated scripts use the report from OMArk and an annotation file of a genome (GFF3) to identify stretch of the genomes that are riches with contaminants. \n",
    "It may be tuned with different parameters to make it more specific and sensitive:\n",
    "    -Minimal proportion of \"contaminant\" genes for contaminant stretches. Set higher for more specifity, lower for higher sensitivity - default:0.5\n",
    "    -Minimal number of contaminant genes in a stretches that are not the full chromosome. Set higher for more specifity, lower for higher sensitivity - default:5\n",
    "    -Whether contaminant stretches should only be whole contigs or contigs extremity  - Default False\n",
    "    \n",
    "\n",
    "It can then be used to create a FASTA files in which proteins from those stretches are removed."
   ]
  },
  {
   "cell_type": "markdown",
   "id": "4a7297d4",
   "metadata": {},
   "source": [
    "## Import dependancies"
   ]
  },
  {
   "cell_type": "code",
   "execution_count": 1,
   "id": "2f477261",
   "metadata": {},
   "outputs": [],
   "source": [
    "import gffutils\n",
    "from Bio import SeqIO\n",
    "import contamination_chromosome_filtering as ccf"
   ]
  },
  {
   "cell_type": "markdown",
   "id": "9b5f786b",
   "metadata": {},
   "source": [
    "## Input files\n",
    "Set your own values for genome of your choice. \n",
    "\n",
    "* OMArk folder: the output folder from OMArk\n",
    "* GFF: A GFF3 file indicating the position of genes in the genome. This code was tested with files from the NCBI and Ensembl\n",
    "* OG_FASTA:the original FASTA file of the proteomes\n",
    "* FILTER_FASTA: the output FASTA file filtered from possible contaminants\n",
    "* REPORT: the output file indicated what part of the genome was considered as contaminants, and the list of corresponding genes and proteins.\n",
    "\n",
    "* THRESHOLD: The threshold (float between 0 and 1) that the proportion of genes in a \"contaminant stretch\" must pass to be considered as valid\n",
    "* MIN_NUMBER_GENES_IN_STRETCH: Integer.  The minimum number of genes in a contaminant stretch to be considered as valid. If the number of genes in a chromosome is lower than this, all of the genes in it must be contaminant to be considered as stretch.\n",
    "* ONLY_EXTREMITIES: a boolean that indicates whether stretch can be only at extremities or also in middle of chromosomes. When true, force the stretches to be at the start or end of chromosomes."
   ]
  },
  {
   "cell_type": "code",
   "execution_count": 2,
   "id": "6ae47c27",
   "metadata": {},
   "outputs": [],
   "source": [
    "OMARK_FOLDER = ''\n",
    "GFF = ''\n",
    "OG_FASTA = ''\n",
    "FILTER_FASTA = ''\n",
    "REPORT = ''\n",
    "\n",
    "THRESHOLD = 0.5\n",
    "MIN_NUMBER_GENES_IN_STRETCH = 5\n",
    "ONLY_EXTREMITIES = False"
   ]
  },
  {
   "cell_type": "markdown",
   "id": "6764c891",
   "metadata": {},
   "source": [
    "## Stretches identification"
   ]
  },
  {
   "cell_type": "code",
   "execution_count": 3,
   "id": "f391f61d",
   "metadata": {},
   "outputs": [],
   "source": [
    "#Get contaminant proteins in OMARK_FOLDER\n",
    "contaminant = ccf.get_contaminants(OMARK_FOLDER)\n",
    "#Get the positions of the contaminants and genes from the GFF file\n",
    "cont_pos, all_pos, gene_to_prot = ccf.get_position_conta(contaminant, GFF)\n",
    "#Define contaminant_stretches, with selected parameter\n",
    "contaminant_stretches = ccf.infer_contaminant_genome_stretches(cont_pos, all_pos,THRESHOLD,MIN_NUMBER_GENES_IN_STRETCH,ONLY_EXTREMITIES)\n"
   ]
  },
  {
   "cell_type": "markdown",
   "id": "6a744f6b",
   "metadata": {},
   "source": [
    "## Manual validation (optional)"
   ]
  },
  {
   "cell_type": "code",
   "execution_count": 4,
   "id": "74d0c29d",
   "metadata": {},
   "outputs": [],
   "source": [
    "#selected_stretches = []\n",
    "#for x in contaminant_stretches:\n",
    "#    print(x)\n",
    "#    correct_input = False\n",
    "#    while not correct_input:\n",
    "#        keep_input = input(\"Select as contaminant? (Y or N)\")\n",
    "#        if keep_input=='Y'or keep_input=='N':\n",
    "#            correct_input=True\n",
    "#        if keep_input=='Y':\n",
    "#            selected_stretches.append(x)\n",
    "#contaminant_stretches = selected_stretches"
   ]
  },
  {
   "cell_type": "markdown",
   "id": "8e800bc2",
   "metadata": {},
   "source": [
    "## Filter proteins in stretches and write outputs"
   ]
  },
  {
   "cell_type": "code",
   "execution_count": 5,
   "id": "d74cf118",
   "metadata": {},
   "outputs": [],
   "source": [
    "#List of protein and genes, from contaminant_stretches\n",
    "protein_to_remove, gene_to_remove =  ccf.get_genes_in_cont_stretches(contaminant_stretches, all_pos, gene_to_prot)\n",
    "#Filter protein from a FASTA and create a filtered copy with contaminant removed\n",
    "ccf.filter_proteins(OG_FASTA, FILTER_FASTA, protein_to_remove)\n",
    "#Write a textual report noting removed genes\n",
    "ccf.write_report(contaminant_stretches,gene_to_remove, protein_to_remove, gene_to_prot, outfile =REPORT)"
   ]
  },
  {
   "cell_type": "code",
   "execution_count": null,
   "id": "58b2f511",
   "metadata": {},
   "outputs": [],
   "source": []
  }
 ],
 "metadata": {
  "kernelspec": {
   "display_name": "Python 3 (ipykernel)",
   "language": "python",
   "name": "python3"
  },
  "language_info": {
   "codemirror_mode": {
    "name": "ipython",
    "version": 3
   },
   "file_extension": ".py",
   "mimetype": "text/x-python",
   "name": "python",
   "nbconvert_exporter": "python",
   "pygments_lexer": "ipython3",
   "version": "3.9.5"
  }
 },
 "nbformat": 4,
 "nbformat_minor": 5
}
