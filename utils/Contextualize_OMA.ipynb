{
 "cells": [
  {
   "cell_type": "markdown",
   "id": "390be9f9",
   "metadata": {},
   "source": [
    "# Contextualize OMArk results with the OMABrowser"
   ]
  },
  {
   "cell_type": "markdown",
   "id": "32ab5f76",
   "metadata": {},
   "source": [
    "This code require to install the [omadb](https://github.com/DessimozLab/pyomadb/) package version 2.2.0 or higher, If did not do it yet, you can do it using the cell below."
   ]
  },
  {
   "cell_type": "code",
   "execution_count": null,
   "id": "39ac416b",
   "metadata": {},
   "outputs": [],
   "source": [
    "!pip install omadb>=2.2.0"
   ]
  },
  {
   "cell_type": "code",
   "execution_count": null,
   "id": "0f3a9831",
   "metadata": {
    "scrolled": false
   },
   "outputs": [],
   "source": [
    "import pandas as pd\n",
    "import omark_contextualize as oc"
   ]
  },
  {
   "cell_type": "markdown",
   "id": "b68c23f6",
   "metadata": {},
   "source": [
    "## Extract OMArk data"
   ]
  },
  {
   "cell_type": "code",
   "execution_count": null,
   "id": "a4fb00a6",
   "metadata": {},
   "outputs": [],
   "source": [
    "#Path to the the OMArk folder\n",
    "PATH = ''\n",
    "#Path to the OMAmer file\n",
    "OMAMER = ''"
   ]
  },
  {
   "cell_type": "markdown",
   "id": "82b71a73",
   "metadata": {},
   "source": [
    "# Exploring data with a Pandas dataframe\n",
    "\n",
    "The following cells extract data from the OMArk output file to make their exploration easiers.\n",
    "\n",
    "The **full_df** dataframe is a combination of consistency and completeness data using the OMAmer mapping. It is possible to filter them by consistent category or completess category.   \n",
    "Other dataframes are output by this cell that corresponds to the composite cell:   \n",
    "The **completeness_df** dataframe consists only of completeness results for each HOG.   \n",
    "The **consistenct_df** dataframe conssists only of consistency assesment for each gene in the proteome.   \n",
    "The **omamer_df** dataframe is a reproduction of the OMAmer file.   "
   ]
  },
  {
   "cell_type": "code",
   "execution_count": null,
   "id": "955e9d23",
   "metadata": {},
   "outputs": [],
   "source": [
    "full_df, completeness_df, consistency_df, omamer_df = oc.get_data_total(PATH, OMAMER )\n",
    "level = oc.get_level(PATH)"
   ]
  },
  {
   "cell_type": "code",
   "execution_count": null,
   "id": "d3101d81",
   "metadata": {},
   "outputs": [],
   "source": [
    "full_df"
   ]
  },
  {
   "cell_type": "markdown",
   "id": "71b5f0dd",
   "metadata": {},
   "source": [
    "# Fragments analysis"
   ]
  },
  {
   "cell_type": "markdown",
   "id": "28362487",
   "metadata": {},
   "source": [
    "This section of the Notebook is meant to delve into the fragmentary genes in your genome of interests and to help correct them using the OMA Browser data. There are three options depending of your goal, available in the three subsections below. \n",
    "\n",
    "**Choose one of the options, run the code then go to export**\n",
    "\n",
    "Options are:\n",
    "- All fragments: look for all genes annotated as fragments by OMArk\n",
    "- Linked fragments: only groups of more than one fragmennts that correspond to the same HOG (Stringent set)\n",
    "- Fragments and linked genes: look for all fragments as well as other \"genes\" mapping to the same HOG and smaller than expected (Not small enough to be noted as fragments but may be) - (Extensive set)"
   ]
  },
  {
   "cell_type": "code",
   "execution_count": null,
   "id": "3a51b082",
   "metadata": {},
   "outputs": [],
   "source": [
    "#WARNING - run this\n",
    "kept_info = ['gene', 'Consistency_Category', 'structure', 'HOG', 'qseqlen', 'subfamily_medianseqlen', 'Completeness_Category']\n",
    "fragment_df =  full_df[full_df['structure']=='Fragment'][kept_info]\n"
   ]
  },
  {
   "cell_type": "markdown",
   "id": "d3e69bc2",
   "metadata": {},
   "source": [
    "### All fragments"
   ]
  },
  {
   "cell_type": "code",
   "execution_count": null,
   "id": "3be04a50",
   "metadata": {},
   "outputs": [],
   "source": [
    "possible_fragments = fragment_df"
   ]
  },
  {
   "cell_type": "markdown",
   "id": "07767acc",
   "metadata": {},
   "source": [
    "### Linked fragments"
   ]
  },
  {
   "cell_type": "code",
   "execution_count": null,
   "id": "c47a3d7c",
   "metadata": {},
   "outputs": [],
   "source": [
    "possible_fragments = fragment_df[fragment_df['HOG'].duplicated(keep=False)]\n"
   ]
  },
  {
   "cell_type": "markdown",
   "id": "90614df9",
   "metadata": {},
   "source": [
    "### Fragments and linked genes"
   ]
  },
  {
   "cell_type": "code",
   "execution_count": null,
   "id": "2d12c48d",
   "metadata": {
    "scrolled": true
   },
   "outputs": [],
   "source": [
    "len_threshod  = 0.8\n",
    "\n",
    "hog_with_fragment = list(fragment_df['HOG'].unique())\n",
    "possible_fragments = full_df[full_df['HOG'].isin(hog_with_fragment)][kept_info].sort_values(by='HOG')\n",
    "possible_fragments = possible_fragments[possible_fragments['qseqlen']<0.8*possible_fragments['subfamily_medianseqlen']]\n"
   ]
  },
  {
   "cell_type": "markdown",
   "id": "450224a1",
   "metadata": {},
   "source": [
    "## Get sequence  of fragmented HOGs"
   ]
  },
  {
   "cell_type": "markdown",
   "id": "edf0c9e6",
   "metadata": {},
   "source": [
    "We uses the OMA API to obtain sequence for the HOGs that corresponds to the fragment to obtain example sequences for those HOGs.   \n",
    "The next cell extract the unique identifier of each HOG reported as being part of the Fragment set.  \n",
    "Then each example sequence are downloaded.   \n",
    "Finally they are written to a FASTA file."
   ]
  },
  {
   "cell_type": "code",
   "execution_count": null,
   "id": "1249c687",
   "metadata": {},
   "outputs": [],
   "source": [
    "#Extract uniq HOGs\n",
    "uniq_HOGs = list(possible_fragments['HOG'].unique())\n",
    "hog_to_medseqlen  = {k: v for k, v in zip(possible_fragments['HOG'], possible_fragments['subfamily_medianseqlen'])}\n",
    "hog_genes = {}\n",
    "for hog, seq in zip(possible_fragments['HOG'],possible_fragments['gene']):\n",
    "    glist = hog_genes.get(hog, [])\n",
    "    glist.append(seq)\n",
    "    hog_genes[hog] =glist\n",
    "hog_genes\n",
    "print(f'{len(hog_genes)} different HOGs')"
   ]
  },
  {
   "cell_type": "code",
   "execution_count": null,
   "id": "897d05e4",
   "metadata": {},
   "outputs": [],
   "source": [
    "#Downloading sequences\n",
    "sequence_of_hog = oc.get_sequences_hog(uniq_HOGs, medseqlen=hog_to_medseqlen)"
   ]
  },
  {
   "cell_type": "code",
   "execution_count": null,
   "id": "9874b05d",
   "metadata": {},
   "outputs": [],
   "source": [
    "# Write a FASTA file with the corresponding sequences. Here is the path to output\n",
    "SEQ_FASTA =  ''\n",
    "oc.write_FASTA_fragmented_HOGs(sequence_of_hog, hog_genes, SEQ_FASTA)"
   ]
  },
  {
   "cell_type": "markdown",
   "id": "014e13bd",
   "metadata": {},
   "source": [
    "### Procedure for fragment correction"
   ]
  },
  {
   "cell_type": "markdown",
   "id": "4a2f60c8",
   "metadata": {},
   "source": [
    "The FASTA file provided by the above code contains one (or more, depending of parameters) sequence(s) from each Hierarchical Orthologous Groups for which we detected sequences in the genome were fragmented. The identifier of each sequence is the HOG ID with an added number (In case there are many sequences)\n",
    "\n",
    "You can use it as an input of MiniProt (https://github.com/lh3/miniprot) to get a mapping of those HOGs to the genomic sequence. We recommend using the ```--gff``` option of MiniProt to obtain the results as the GFF file.  \n",
    "If MiniProt is installed in yout environment, you can use the below command line to run it, after setting the appropriate pathes."
   ]
  },
  {
   "cell_type": "code",
   "execution_count": null,
   "id": "7769e6f6",
   "metadata": {},
   "outputs": [],
   "source": [
    "#Path for MiniProt\n",
    "GENOMIC_FASTA  = ''\n",
    "MINIPROT_OUTPUT = ''"
   ]
  },
  {
   "cell_type": "code",
   "execution_count": null,
   "id": "97f6969c",
   "metadata": {},
   "outputs": [],
   "source": [
    "!miniprot miniprot -I --gff --outs=0.95 {GENOMIC_FASTA} {SEQ_FASTA} > {MINIPROT_OUTPUT}"
   ]
  },
  {
   "cell_type": "markdown",
   "id": "4ce4a5ee",
   "metadata": {},
   "source": [
    "You can then compare your gene models to the one predicted by MiniProt by homology, and merge them together if need be. \n",
    "Both your GFF file and the MiniProt file can be visualized alongside one another using a genome browser, like JBrowse2"
   ]
  },
  {
   "cell_type": "markdown",
   "id": "5145478e",
   "metadata": {},
   "source": [
    "# Missing genes analysis"
   ]
  },
  {
   "cell_type": "markdown",
   "id": "f8e205c3",
   "metadata": {},
   "source": [
    "This section of the Notebook is meant to delve into the missing genes in your proteome of interests and to help correct them using the OMA Browser data.   \n",
    "Here, we offer two complementary ways to help confirm missing genes or find them if they are present in the assembly.\n",
    "The first one is based on **reference sequences** for the missing HOGs, that can be exploited with methods such as Miniprot to find close sequences in the assembly.   \n",
    "The second one export information about the **ancestral synteny** of the missing HOGs and is meant to confirm or find these genes are missing by looking at their context.  \n",
    "  \n",
    "The folllowing cells get information about the missing HOGs in a dataframe, then extract the unique HOG identifiers for these genes."
   ]
  },
  {
   "cell_type": "code",
   "execution_count": null,
   "id": "8666555d",
   "metadata": {
    "scrolled": false
   },
   "outputs": [],
   "source": [
    "missing_df =  full_df[full_df['Completeness_Category']=='Lost']\n",
    "missing_df"
   ]
  },
  {
   "cell_type": "code",
   "execution_count": null,
   "id": "a2658194",
   "metadata": {},
   "outputs": [],
   "source": [
    "uniq_HOGs = list(missing_df['HOG'].unique())\n",
    "\n",
    "print(f'{len(uniq_HOGs)} different HOGs')"
   ]
  },
  {
   "cell_type": "markdown",
   "id": "173636f1",
   "metadata": {},
   "source": [
    "## Sequence validation"
   ]
  },
  {
   "cell_type": "markdown",
   "id": "81472483",
   "metadata": {},
   "source": [
    "This subsection extract reference sequences for the missing HOGs from this annotation and extract reference sequences for this from the OMA Browser, and write it as a FASTA file.\n",
    "This FASTA file can the be used to do mapping to the genome"
   ]
  },
  {
   "cell_type": "code",
   "execution_count": null,
   "id": "cb353497",
   "metadata": {},
   "outputs": [],
   "source": [
    "sequence_of_hog = oc.get_sequences_hog(uniq_HOGs, level=level)"
   ]
  },
  {
   "cell_type": "code",
   "execution_count": null,
   "id": "79efdfb8",
   "metadata": {},
   "outputs": [],
   "source": [
    "#Path to the output FASTA file\n",
    "SEQ_FASTA=  ''"
   ]
  },
  {
   "cell_type": "code",
   "execution_count": null,
   "id": "7adfd815",
   "metadata": {},
   "outputs": [],
   "source": [
    "oc.write_FASTA_missing_HOGs(sequence_of_hog, SEQ_FASTA)"
   ]
  },
  {
   "cell_type": "markdown",
   "id": "e5202568",
   "metadata": {},
   "source": [
    "The FASTA file provided by the above code contains Hierarchical Orthologous Groups for which we can't find a correspoding proteins in the protromr. The identifier of each sequence is the HOG ID with an added number (In case there are many sequences)\n",
    "\n",
    "You can use it as an input of MiniProt (https://github.com/lh3/miniprot) to get a mapping of those HOGs to the genomic sequence. We recommend using the ```--gff``` option of MiniProt to obtain the results as the GFF file.  \n",
    "If MiniProt is installed in yout environment, you can use the below command line to run it, after setting the appropriate pathes."
   ]
  },
  {
   "cell_type": "code",
   "execution_count": null,
   "id": "a12cda4c",
   "metadata": {},
   "outputs": [],
   "source": [
    "#Path for MiniProt\n",
    "GENOMIC_FASTA  = ''\n",
    "MINIPROT_OUTPUT = ''"
   ]
  },
  {
   "cell_type": "code",
   "execution_count": null,
   "id": "0503fda3",
   "metadata": {},
   "outputs": [],
   "source": [
    "!miniprot -I --gff --outs=0.95 {GENOMIC_FASTA} {SEQ_FASTA} > {MINIPROT_OUTPUT}"
   ]
  },
  {
   "cell_type": "markdown",
   "id": "73103701",
   "metadata": {},
   "source": [
    "You can then check whether you have gene models predicted at these location, or if the mapping could improve your gene models.  \n",
    "This method can also be combined with the synteny strategy below"
   ]
  },
  {
   "cell_type": "markdown",
   "id": "9cb0685f",
   "metadata": {},
   "source": [
    "## Synteny analysis"
   ]
  },
  {
   "cell_type": "markdown",
   "id": "d0c2b102",
   "metadata": {},
   "source": [
    "This subsection extract ancestral synteny for the missing HOGs from this annotation, find the corresponding genes in the genome using OMAmer and export this context.\n",
    "This file can the be used to know if known genes from the same context are present in the genome or also missing, and to help you find these genes if genes from the same context are indeed presents.\n",
    "The next cells obtain context for the missing HOGs from the OMA API (should take a few minutes), then use the OMAmer mapping to convert it to genes identifier from the same genome and export all as a tsv files.\n",
    "\n",
    "**Warning** This subsection will only work with OMABrowser version from June 2023 onward."
   ]
  },
  {
   "cell_type": "code",
   "execution_count": null,
   "id": "072351e8",
   "metadata": {
    "scrolled": true
   },
   "outputs": [],
   "source": [
    "#Extract synteny data\n",
    "synteny_groups = oc.get_synteny_hog(uniq_HOGs, level)"
   ]
  },
  {
   "cell_type": "code",
   "execution_count": null,
   "id": "e3d0a84e",
   "metadata": {},
   "outputs": [],
   "source": [
    "#Get OMAmer mapping\n",
    "omamer_map  = {x : y for x,y in zip(list(omamer_df['HOG']),list(omamer_df['gene']) )}"
   ]
  },
  {
   "cell_type": "code",
   "execution_count": null,
   "id": "32c70354",
   "metadata": {},
   "outputs": [],
   "source": [
    "#Convert context to the target genome context (Gene identifier)\n",
    "expected_neighbourhood = oc.translate_to_genomic_context(synteny_groups, omamer_map)"
   ]
  },
  {
   "cell_type": "code",
   "execution_count": null,
   "id": "daa27721",
   "metadata": {
    "scrolled": false
   },
   "outputs": [],
   "source": [
    "expected_neighbourhood"
   ]
  },
  {
   "cell_type": "code",
   "execution_count": null,
   "id": "d4b01c6f",
   "metadata": {},
   "outputs": [],
   "source": [
    "#Path to the synteny TSV file\n",
    "SYNTENY_OUTFILE = ''"
   ]
  },
  {
   "cell_type": "code",
   "execution_count": null,
   "id": "8a4431bf",
   "metadata": {},
   "outputs": [],
   "source": [
    "#Write the results to a TSV file\n",
    "oc.write_synteny_file(expected_neighbourhood, SYNTENY_OUTFILE)"
   ]
  },
  {
   "cell_type": "markdown",
   "id": "f83d850f",
   "metadata": {},
   "source": [
    "You can use the above generated file to look for the gene close to the \"Target\" genes (the missing HOG) - represented by their ID in the OMAmer file. YOu can use a genome browser to find this context and identify if the genes may be present, by combining it with the above sequence subsection."
   ]
  },
  {
   "cell_type": "markdown",
   "id": "2c3a3960",
   "metadata": {},
   "source": [
    "The next cell is histogram of number of genes found in the context for each HOG.  \n",
    "A high number of gene with 4 genes in the context may mean that these missing genes may still be present in the genome, while a lot of 0 genes in the context likely confirm that entire contigs are missing from the assembly."
   ]
  },
  {
   "cell_type": "code",
   "execution_count": null,
   "id": "3d15fb04",
   "metadata": {},
   "outputs": [],
   "source": [
    "import matplotlib.pyplot as plt\n",
    "import numpy as np\n",
    "plt.bar(*np.unique([x[1][0] for x in expected_neighbourhood], return_counts=True))\n"
   ]
  },
  {
   "cell_type": "markdown",
   "id": "fe0d8487",
   "metadata": {},
   "source": [
    "# Assembly completeness assesment"
   ]
  },
  {
   "cell_type": "markdown",
   "id": "749b8e48",
   "metadata": {},
   "source": [
    "OMARk is designed to assess the quality of annotation, using multiple independant metrics.\n",
    "However, users may be interested to assess the completeness of an assembly before going through a lengthy annotation process. Here is a tutorial on how to do this.   \n",
    "This tutorial is divied into three subsection. While the first section is mandatory, the two others are mutually exclusive and are to be done under different conditions:\n",
    "* Conserved genes extraction with OMArk. **Mandatory**\n",
    "* Assembly completenes with Miniprot. **Only if the gene set is close enough to the target species (Family level or below**\n",
    "* Assembly completeness with a genefinder **If the conserved gene set is not close to the target species**\n"
   ]
  },
  {
   "cell_type": "markdown",
   "id": "3c54e49e",
   "metadata": {},
   "source": [
    "First, you need to extract the reference lineage's HOGs from OMArk. You can do this using the ```-c``` option. Below is the cell that can help you run this command if OMArk is installed in your environment."
   ]
  },
  {
   "cell_type": "code",
   "execution_count": null,
   "id": "e5738da6",
   "metadata": {},
   "outputs": [],
   "source": [
    "#Path to the OMAmer DB\n",
    "OMAMER_DB = ''\n",
    "#Target species's taxid\n",
    "SPECIES_TAXID = ''\n",
    "#OMArk folder\n",
    "OMARK_OUTPUT_FOLDER=  ''"
   ]
  },
  {
   "cell_type": "code",
   "execution_count": null,
   "id": "56e8bc3f",
   "metadata": {},
   "outputs": [],
   "source": [
    "!omark -c -d {OMAMER_DB} -t {SPECIES_TAXID} -o {OMARK_OUTPUT_FOLDER}"
   ]
  },
  {
   "cell_type": "markdown",
   "id": "b2c54d17",
   "metadata": {},
   "source": [
    "This cell extract the results from the ```omark -c``` call."
   ]
  },
  {
   "cell_type": "code",
   "execution_count": null,
   "id": "c3dc4ec0",
   "metadata": {},
   "outputs": [],
   "source": [
    "HOG_LIST_FILE = OMARK_OUTPUT_FOLDER + '/conserved_HOGs.txt'\n",
    "\n",
    "hog_list, LEVEL = oc.read_conserved_hogs(HOG_LIST_FILE)\n",
    "\n",
    "print(f'Ancestral lineage: {LEVEL}')\n",
    "print(f'{len(hog_list)} HOGs')"
   ]
  },
  {
   "cell_type": "markdown",
   "id": "3040d3eb",
   "metadata": {},
   "source": [
    "## Assembly completeness with Miniprot"
   ]
  },
  {
   "cell_type": "markdown",
   "id": "ab9c0430",
   "metadata": {},
   "source": [
    "This subsection is to help you assessing the completeness of your assembly rather than an annotation. To do this, we suggest using Miniprot (https://github.com/lh3/miniprot) from [H. Li, *Bioinformatics*, 2023](https://academic.oup.com/bioinformatics/article/39/1/btad014/6989621). \n",
    "\n",
    "The cell below download sequences from OMArk's conserved HOGs, at the level of interest. We expect this method to work well when the chosen ancestral lineage is not too far from the species of interest (Order, or family level) since Miniprot works well with close sequences. If it is not the case, we suggest using the Gene Finder subsection below.\n",
    "\n",
    "**Warning**: downloading selected sequences from OMA require many API calls and can take time. Expect this part to take between 15 min to 4 hours."
   ]
  },
  {
   "cell_type": "code",
   "execution_count": null,
   "id": "c7fb450e",
   "metadata": {},
   "outputs": [],
   "source": [
    "#Input for MiniProt\n",
    "SEQ_FASTA=  ''\n",
    "sequence_of_hog = oc.get_sequences_hog(hog_list, nseq=1, level=LEVEL)\n",
    "oc.write_FASTA_missing_HOGs(sequence_of_hog, SEQ_FASTA)"
   ]
  },
  {
   "cell_type": "markdown",
   "id": "9bcb406c",
   "metadata": {},
   "source": [
    "With this FASTA file, run miniprot with the following command: ```miniprot  --trans -I --gff --outs=0.95 [GENOMIC_FASTA] [SEQ_FASTA] > MINIPROT_OUTPUT```. If miniprot is installed in your environment use the cell below, by replacing values for the empty variables."
   ]
  },
  {
   "cell_type": "code",
   "execution_count": null,
   "id": "e2401c2e",
   "metadata": {},
   "outputs": [],
   "source": [
    "#Path to the genomic FASTA file\n",
    "GENOMIC_FASTA = ''\n",
    "#Path to the MiniProt output file\n",
    "MINIPROT_OUTPUT = ''"
   ]
  },
  {
   "cell_type": "code",
   "execution_count": null,
   "id": "8384ace9",
   "metadata": {},
   "outputs": [],
   "source": [
    "!miniprot  --trans -I --gff --outs=0.95 {GENOMIC_FASTA} {SEQ_FASTA} > {MINIPROT_OUTPUT}"
   ]
  },
  {
   "cell_type": "markdown",
   "id": "0e09f7bd",
   "metadata": {},
   "source": [
    "The next cell takes as input the GFF output from Miniprot and output a FASTA file to be used as input for omamer and a splice file to be used as input for OMArk.   \n",
    "The cell after this gives example command to run OMArk. You may run it through the Notebook if you have it installed in the same environment and have enough ressources for it. Otherwise, you can use it as a command line."
   ]
  },
  {
   "cell_type": "code",
   "execution_count": null,
   "id": "a737e4af",
   "metadata": {},
   "outputs": [],
   "source": [
    "#FASTA file to be created from MiniProt results\n",
    "PROT_FASTA = ''\n",
    "#Splice file to be created from MiniProt Results\n",
    "SPLICE_FILE = ''\n",
    "oc.omark_input_from_gff(MINIPROT_OUTPUT, GENOMIC_FASTA, PROT_FASTA, SPLICE_FILE)"
   ]
  },
  {
   "cell_type": "code",
   "execution_count": null,
   "id": "a43a50b7",
   "metadata": {},
   "outputs": [],
   "source": [
    "#Path to the OMAmer file\n",
    "OMAMER_FILE = ''\n",
    "#Path to OMArk output\n",
    "OMARK_OUTPUT  = ''"
   ]
  },
  {
   "cell_type": "code",
   "execution_count": null,
   "id": "66185c60",
   "metadata": {},
   "outputs": [],
   "source": [
    "!omamer search --db {OMAMER_DB} --query {PROT_FASTA} --out {OMAMER_FILE} \n",
    "!omark -d {OMAMER_DB} -f {OMAMER_FILE} -i {SPLICE_FILE} -o {OMARK_OUTPUT}"
   ]
  },
  {
   "cell_type": "markdown",
   "id": "7da3a47b",
   "metadata": {},
   "source": [
    "OMArk results give an estimate for the completess of the assembly. Only the completeness part of OMArk is relevant here, since the annotation done this way only consider genes annotated from mapping conserved genes.   \n",
    "**Warning**: the consistency part of OMArk should not be used to evaluate proteomes directly annotated from OMArk output since it would be circular logic. Instead, consistency evaluation should only be used on annotation created from methods independant from OMArk."
   ]
  },
  {
   "cell_type": "markdown",
   "id": "c57d0d42",
   "metadata": {},
   "source": [
    "## Assembly completeness with a genefinder"
   ]
  },
  {
   "cell_type": "markdown",
   "id": "abac8bed",
   "metadata": {},
   "source": [
    "In case the ancestral lineage chosen by OMArk for your proteome is quite distant from your species of interest, it is best to use an *ab initio* predicttion method to first estimate the completeness of the assembly.\n",
    "\n",
    "The cell below can help you by downloading sequences from the selected lineage to use as a training set for methods such as [Augustus](https://github.com/Gaius-Augustus/Augustus). "
   ]
  },
  {
   "cell_type": "code",
   "execution_count": null,
   "id": "ca4ba628",
   "metadata": {},
   "outputs": [],
   "source": [
    "#input for Genefinder\n",
    "PATH_OUTPUT=  ''\n",
    "sequence_of_hog = oc.get_sequences_hog(hog_list, nseq=20, level=LEVEL)\n",
    "oc.write_FASTA_missing_HOGs(sequence_of_hog, PATH_OUTPUT)"
   ]
  },
  {
   "cell_type": "markdown",
   "id": "5bea38b2",
   "metadata": {},
   "source": [
    "Using *ab initio* annotation method can require parallelizing, or parameter tuning, that is best made following instructions from the authors of a method. Once predictions are made, you can use OMAmer and OMArk in their normal on the output protein FASTA file."
   ]
  }
 ],
 "metadata": {
  "kernelspec": {
   "display_name": "Python 3 (ipykernel)",
   "language": "python",
   "name": "python3"
  },
  "language_info": {
   "codemirror_mode": {
    "name": "ipython",
    "version": 3
   },
   "file_extension": ".py",
   "mimetype": "text/x-python",
   "name": "python",
   "nbconvert_exporter": "python",
   "pygments_lexer": "ipython3",
   "version": "3.9.5"
  }
 },
 "nbformat": 4,
 "nbformat_minor": 5
}
