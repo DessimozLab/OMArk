{
 "cells": [
  {
   "cell_type": "markdown",
   "id": "418d9cde",
   "metadata": {},
   "source": [
    "# OMArk results visualization\n",
    "This Notebook is meant to facilitate the exploration and visualization of OMArk results when done over multiple proteomes. It is based on the plot_all_results.py companion scripts available on OMArk GitHub.\n",
    "Before using it set the variable below to fit your working environment. The software expects to find a folder containing all of OMArk results folder. It then extracts data from the .sum machine readable file."
   ]
  },
  {
   "cell_type": "markdown",
   "id": "a3daec04",
   "metadata": {},
   "source": [
    "## Library import\n",
    "Run this cell before using the Notebook"
   ]
  },
  {
   "cell_type": "code",
   "execution_count": 17,
   "id": "6e372e93",
   "metadata": {},
   "outputs": [],
   "source": [
    "import plot_all_results as plot_all\n",
    "import os\n",
    "import pandas as pd"
   ]
  },
  {
   "cell_type": "markdown",
   "id": "f28bad2f",
   "metadata": {},
   "source": [
    "## Setting\n",
    "Set the variable corresponding to your working environment. Only the PATH variable is mandatory and should direct to the folder containing OMArk output folder.\n",
    "The other are optionnal and can be kept to None if not used"
   ]
  },
  {
   "cell_type": "code",
   "execution_count": 9,
   "id": "05b8f930",
   "metadata": {},
   "outputs": [],
   "source": [
    "#Path to a folder containing OMArk outputs as subfolders\n",
    "PATH='/path/to/results/'\n",
    "#Path to the figure to be outputed. You can chose the format by changeing the extension. Keep to none if you only wish to visualize it inside the Notebook\n",
    "OUTPUT_FIGURE= None\n",
    "#Path to the mapping file associating filename prefixes to Species name and Taxid. Format according to the template provided with these scripts in OMArk's GitHub\n",
    "MAPPING= None"
   ]
  },
  {
   "cell_type": "markdown",
   "id": "65aa7f4c",
   "metadata": {},
   "source": [
    "# Data extraction\n",
    "Read OMArk results and output it as DataFrame.\n",
    "omark_df is the main dataframe and present OMArk results for each individual proteome.\n",
    "cont_df presents information about each contamination events"
   ]
  },
  {
   "cell_type": "code",
   "execution_count": 18,
   "id": "d0b01ece",
   "metadata": {},
   "outputs": [],
   "source": [
    "folders = [os.path.join(PATH, x) for x in os.listdir(PATH)]\n",
    "omark_df, cont_df = plot_all.create_df_from_results(folders)"
   ]
  },
  {
   "cell_type": "code",
   "execution_count": 19,
   "id": "e94425ed",
   "metadata": {},
   "outputs": [],
   "source": [
    "if MAPPING:\n",
    "    omark_df, cont_df = plot_all.integrate_external_data(omark_df, cont_df, MAPPING, taxonomy_order=True)"
   ]
  },
  {
   "cell_type": "code",
   "execution_count": null,
   "id": "6a395fd4",
   "metadata": {},
   "outputs": [],
   "source": [
    "#Show the dataframe\n",
    "omark_df"
   ]
  },
  {
   "cell_type": "code",
   "execution_count": null,
   "id": "418640cc",
   "metadata": {},
   "outputs": [],
   "source": [
    "#Show the dataframe\n",
    "cont_df"
   ]
  },
  {
   "cell_type": "markdown",
   "id": "44440197",
   "metadata": {},
   "source": [
    "## Figure generation\n",
    "\n",
    "Plot OMArk results in a single Figure. You can change the display of the Figure through the self-describing function argument."
   ]
  },
  {
   "cell_type": "code",
   "execution_count": null,
   "id": "e6623f35",
   "metadata": {},
   "outputs": [],
   "source": [
    "plot_all.plot_omark_df(omark_df, savefile=OUTPUT, width=None, height=None, no_labels=False, fontsize=12)"
   ]
  }
 ],
 "metadata": {
  "kernelspec": {
   "display_name": "Python 3 (ipykernel)",
   "language": "python",
   "name": "python3"
  },
  "language_info": {
   "codemirror_mode": {
    "name": "ipython",
    "version": 3
   },
   "file_extension": ".py",
   "mimetype": "text/x-python",
   "name": "python",
   "nbconvert_exporter": "python",
   "pygments_lexer": "ipython3",
   "version": "3.9.5"
  }
 },
 "nbformat": 4,
 "nbformat_minor": 5
}
